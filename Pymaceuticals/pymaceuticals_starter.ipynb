{
 "cells": [
  {
   "cell_type": "markdown",
   "metadata": {},
   "source": [
    "## Observations and Insights"
   ]
  },
  {
   "cell_type": "markdown",
   "metadata": {},
   "source": []
  },
  {
   "cell_type": "markdown",
   "metadata": {},
   "source": [
    "## Dependencies and starter code"
   ]
  },
  {
   "cell_type": "code",
   "execution_count": 1,
   "metadata": {},
   "outputs": [],
   "source": [
    "# Dependencies and Setup\n",
    "import matplotlib.pyplot as plt\n",
    "import pandas as pd\n",
    "import scipy.stats as st\n",
    "\n",
    "# Study data files\n",
    "mouse_metadata = \"data/Mouse_metadata.csv\"\n",
    "study_results = \"data/Study_results.csv\"\n",
    "\n",
    "# Read the mouse data and the study results\n",
    "mouse_metadata = pd.read_csv(mouse_metadata)\n",
    "study_results = pd.read_csv(study_results)\n"
   ]
  },
  {
   "cell_type": "code",
   "execution_count": null,
   "metadata": {},
   "outputs": [],
   "source": [
    "# Sample mouse_metadata\n",
    "mouse_metadata.head()"
   ]
  },
  {
   "cell_type": "code",
   "execution_count": null,
   "metadata": {},
   "outputs": [],
   "source": [
    "# Sample study_results\n",
    "study_results.head()"
   ]
  },
  {
   "cell_type": "code",
   "execution_count": null,
   "metadata": {},
   "outputs": [],
   "source": [
    "# Combine the data into a single dataset\n",
    "singledata = pd.merge(mouse_metadata, study_results, on=\"Mouse ID\")\n",
    "singledata.head()"
   ]
  },
  {
   "cell_type": "markdown",
   "metadata": {},
   "source": [
    "## Summary statistics"
   ]
  },
  {
   "cell_type": "code",
   "execution_count": 2,
   "metadata": {},
   "outputs": [],
   "source": [
    "# Generate a summary statistics table of mean, median, variance, standard deviation, \n",
    "# and SEM of the tumor volume for each regimen"
   ]
  },
  {
   "cell_type": "code",
   "execution_count": null,
   "metadata": {},
   "outputs": [],
   "source": [
    "# Mean\n",
    "\n",
    "# Group by drug\n",
    "mean = singledata.groupby([\"Drug Regimen\"]).mean()[\"Tumor Volume (mm3)\"]\n",
    "\n",
    "# Convert to DataFrame\n",
    "mean = pd.DataFrame(mean)\n",
    "\n",
    "# Flatten the column headings\n",
    "mean = mean.reset_index()\n",
    "\n",
    "# Rename\n",
    "mean = mean.rename(columns={\"Tumor Volume (mm3)\": \"Tumor Volume (Mean)\"})\n",
    "\n",
    "mean"
   ]
  },
  {
   "cell_type": "code",
   "execution_count": null,
   "metadata": {},
   "outputs": [],
   "source": [
    "# Median\n",
    "\n",
    "# Group by drug\n",
    "median = singledata.groupby([\"Drug Regimen\"]).median()[\"Tumor Volume (mm3)\"]\n",
    "\n",
    "# Convert to DataFrame\n",
    "median = pd.DataFrame(median)\n",
    "\n",
    "# Flatten the column headings\n",
    "median = median.reset_index()\n",
    "\n",
    "# Rename \n",
    "median = median.rename(columns={\"Tumor Volume (mm3)\": \"Tumor Volume (Median)\"})\n",
    "\n",
    "median"
   ]
  },
  {
   "cell_type": "code",
   "execution_count": null,
   "metadata": {},
   "outputs": [],
   "source": [
    "# Variance \n",
    "\n",
    "# Group by drug\n",
    "variance = singledata.groupby([\"Drug Regimen\"]).var()[\"Tumor Volume (mm3)\"]\n",
    "\n",
    "# Convert to DataFrame\n",
    "variance = pd.DataFrame(variance)\n",
    "\n",
    "# Flatten the column headings\n",
    "variance = variance.reset_index()\n",
    "\n",
    "# Rename the column to differentiate from the other calculations\n",
    "variance = variance.rename(columns={\"Tumor Volume (mm3)\": \"Tumor Volume (Variance)\"})\n",
    "\n",
    "variance"
   ]
  },
  {
   "cell_type": "code",
   "execution_count": null,
   "metadata": {},
   "outputs": [],
   "source": [
    "# Standard Deviation\n",
    "\n",
    "# Group by drug\n",
    "standardDeviation = singledata.groupby([\"Drug Regimen\"]).std()[\"Tumor Volume (mm3)\"]\n",
    "\n",
    "# Convert to DataFrame\n",
    "standardDeviation = pd.DataFrame(standardDeviation)\n",
    "\n",
    "# Flatten the column headings\n",
    "standardDeviation = standardDeviation.reset_index()\n",
    "\n",
    "# Rename the column to differentiate from the other calculations\n",
    "standardDeviation = standardDeviation.rename(columns={\"Tumor Volume (mm3)\": \"Tumor Volume (Standard Deviation)\"})\n",
    "\n",
    "standardDeviation"
   ]
  },
  {
   "cell_type": "code",
   "execution_count": null,
   "metadata": {},
   "outputs": [],
   "source": [
    "# Standard Error (SEM)\n",
    "\n",
    "# Store the standard error Tumor Volume Data Grouped by Drug \n",
    "standardError = singledata.groupby([\"Drug Regimen\"]).sem()[\"Tumor Volume (mm3)\"]\n",
    "\n",
    "# Convert to DataFrame\n",
    "standardError = pd.DataFrame(standardError)\n",
    "\n",
    "# Flatten the column headings\n",
    "standardError = standardError.reset_index()\n",
    "\n",
    "# Rename the column to differentiate from the other calculations\n",
    "standardError = standardError.rename(columns={\"Tumor Volume (mm3)\": \"Tumor Volume (Standard Error)\"})\n",
    "\n",
    "standardError"
   ]
  },
  {
   "cell_type": "code",
   "execution_count": null,
   "metadata": {},
   "outputs": [],
   "source": [
    "# Create combined dataframe\n",
    "combined_df = {}\n",
    "pd.DataFrame(combined_df)\n",
    "\n",
    "# Merge data into the dataframe\n",
    "combined_df = pd.merge(mean, median, on=\"Drug Regimen\")\n",
    "combined_df = pd.merge(combined_df, variance, on=\"Drug Regimen\")\n",
    "combined_df = pd.merge(combined_df, standardDeviation, on=\"Drug Regimen\")\n",
    "combined_df = pd.merge(combined_df, standardError, on=\"Drug Regimen\")\n",
    "combined_df"
   ]
  },
  {
   "cell_type": "markdown",
   "metadata": {},
   "source": [
    "## Bar plots"
   ]
  },
  {
   "cell_type": "code",
   "execution_count": 3,
   "metadata": {},
   "outputs": [],
   "source": [
    "# Generate a bar plot showing number of data points for each treatment regimen using pandas\n",
    "\n",
    "ax = plt.subplot()\n",
    "ax.bar(x_axis, combined_df['Tumor Volume (Mean)'], width=0.25, align='center')\n",
    "ax.bar(x_axis, combined_df['Tumor Volume (Median)'], width=0.25, align='center')\n",
    "ax.bar(x_axis, combined_df['Tumor Volume (Mode)'], width=0.25, align='center')\n",
    "ax.bar(x_axis, combined_df['Tumor Volume (Variance)'], width=0.25, align='center')\n",
    "ax.bar(x_axis, combined_df['Tumor Volume (Standard Deviation)'], width=0.25, align='center')\n",
    "ax.bar(x_axis, combined_df['Tumor Volume (Standard Error)'], width=0.25, align='center')\n"
   ]
  },
  {
   "cell_type": "code",
   "execution_count": 4,
   "metadata": {},
   "outputs": [],
   "source": [
    "# Generate a bar plot showing number of data points for each treatment regimen using pyplot\n",
    "\n",
    "x_axis = combined_df['Drug Regimen']\n",
    "plt.bar(x_axis, combined_df['Tumor Volume (Mean)'], width=0.5, align='center')\n",
    "plt.bar(x_axis, combined_df['Tumor Volume (Median)'], width=0.5, align='center')\n",
    "plt.bar(x_axis, combined_df['Tumor Volume (Mode)'], width=0.5, align='center')\n",
    "plt.bar(x_axis, combined_df['Tumor Volume (Variance)'], width=0.5, align='center')\n",
    "plt.bar(x_axis, combined_df['Tumor Volume (Standard Deviation)'], width=0.5, align='center')\n",
    "plt.bar(x_axis, combined_df['Tumor Volume (Standard Error)'], width=0.5, align='center')\n",
    "\n",
    "# Set x axis and tick locations\n",
    "tick_locations = [value for value in x_axis]\n",
    "plt.xticks(tick_locations, combined_df['Drug Regimen'], rotation=\"vertical\")\n",
    "\n",
    "plt.show()"
   ]
  },
  {
   "cell_type": "markdown",
   "metadata": {},
   "source": [
    "## Pie plots"
   ]
  },
  {
   "cell_type": "code",
   "execution_count": 5,
   "metadata": {},
   "outputs": [],
   "source": [
    "# Generate a pie plot showing the distribution of female versus male mice using pandas"
   ]
  },
  {
   "cell_type": "code",
   "execution_count": 6,
   "metadata": {},
   "outputs": [],
   "source": [
    "# Generate a pie plot showing the distribution of female versus male mice using pyplot"
   ]
  },
  {
   "cell_type": "markdown",
   "metadata": {},
   "source": [
    "## Quartiles, outliers and boxplots"
   ]
  },
  {
   "cell_type": "code",
   "execution_count": 7,
   "metadata": {},
   "outputs": [],
   "source": [
    "# Calculate the final tumor volume of each mouse across four of the most promising treatment regimens. Calculate the IQR and quantitatively determine if there are any potential outliers. "
   ]
  },
  {
   "cell_type": "code",
   "execution_count": 8,
   "metadata": {},
   "outputs": [],
   "source": [
    "# Generate a box plot of the final tumor volume of each mouse across four regimens of interest"
   ]
  },
  {
   "cell_type": "markdown",
   "metadata": {},
   "source": [
    "## Line and scatter plots"
   ]
  },
  {
   "cell_type": "code",
   "execution_count": 9,
   "metadata": {},
   "outputs": [],
   "source": [
    "# Generate a line plot of time point versus tumor volume for a mouse treated with Capomulin"
   ]
  },
  {
   "cell_type": "code",
   "execution_count": 10,
   "metadata": {},
   "outputs": [],
   "source": [
    "# Generate a scatter plot of mouse weight versus average tumor volume for the Capomulin regimen"
   ]
  },
  {
   "cell_type": "code",
   "execution_count": 11,
   "metadata": {},
   "outputs": [],
   "source": [
    "# Calculate the correlation coefficient and linear regression model for mouse weight and average tumor volume for the Capomulin regimen"
   ]
  },
  {
   "cell_type": "code",
   "execution_count": null,
   "metadata": {},
   "outputs": [],
   "source": []
  }
 ],
 "metadata": {
  "anaconda-cloud": {},
  "kernelspec": {
   "display_name": "Python 3",
   "language": "python",
   "name": "python3"
  },
  "language_info": {
   "codemirror_mode": {
    "name": "ipython",
    "version": 3
   },
   "file_extension": ".py",
   "mimetype": "text/x-python",
   "name": "python",
   "nbconvert_exporter": "python",
   "pygments_lexer": "ipython3",
   "version": "3.7.3"
  }
 },
 "nbformat": 4,
 "nbformat_minor": 2
}
